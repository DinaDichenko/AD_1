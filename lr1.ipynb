{
 "cells": [
  {
   "cell_type": "markdown",
   "id": "7e8912a9",
   "metadata": {
    "id": "7e8912a9"
   },
   "source": [
    "Лабораторная работа №1\n",
    "по дисциплине «Анализ данных».\n",
    "\n",
    "> Задание:\n",
    "\n",
    "* Найти датасет.\n",
    "* Произвести выборки,\n",
    "* определить t-критерий Стьюдента.\n",
    "* anova test\n",
    "* Сделать выводы."
   ]
  },
  {
   "cell_type": "markdown",
   "id": "29065cfd",
   "metadata": {
    "id": "29065cfd"
   },
   "source": [
    "* H0 - у людей до 53 лет артериальное давление выше, чем у людей после 53 лет\n",
    "* H1 - у людей до 53 лет артериальное давление не выше, чем у людей после 53 лет\n"
   ]
  },
  {
   "cell_type": "code",
   "execution_count": 4,
   "id": "b9741c5e",
   "metadata": {
    "id": "b9741c5e"
   },
   "outputs": [
    {
     "data": {
      "text/html": [
       "\n",
       "                <script type=\"application/javascript\" id=\"jupyter_black\">\n",
       "                (function() {\n",
       "                    if (window.IPython === undefined) {\n",
       "                        return\n",
       "                    }\n",
       "                    var msg = \"WARNING: it looks like you might have loaded \" +\n",
       "                        \"jupyter_black in a non-lab notebook with \" +\n",
       "                        \"`is_lab=True`. Please double check, and if \" +\n",
       "                        \"loading with `%load_ext` please review the README!\"\n",
       "                    console.log(msg)\n",
       "                    alert(msg)\n",
       "                })()\n",
       "                </script>\n",
       "                "
      ],
      "text/plain": [
       "<IPython.core.display.HTML object>"
      ]
     },
     "metadata": {},
     "output_type": "display_data"
    }
   ],
   "source": [
    "%reload_ext jupyter_black"
   ]
  },
  {
   "cell_type": "code",
   "execution_count": 5,
   "id": "6c7c7b29",
   "metadata": {},
   "outputs": [],
   "source": [
    "import numpy as np\n",
    "import scipy.stats as stats\n",
    "import matplotlib.pyplot as plt\n",
    "import csv\n",
    "\n",
    "%matplotlib inline"
   ]
  },
  {
   "cell_type": "code",
   "execution_count": null,
   "id": "aa23c295",
   "metadata": {
    "id": "aa23c295"
   },
   "outputs": [],
   "source": [
    "with open(\"Heart_Attack_Data_Set.csv\", \"r\", newline=\"\") as csvfile:\n",
    "    data = csv.reader(csvfile, delimiter=\",\")\n",
    "    a1 = []\n",
    "    a2 = []\n",
    "    next(data)\n",
    "    for row in data:\n",
    "        if int(row[0]) >= 53:\n",
    "            a1.append(int(row[4]))\n",
    "        if int(row[0]) < 53:\n",
    "            a2.append(int(row[4]))"
   ]
  },
  {
   "cell_type": "code",
   "execution_count": null,
   "id": "53ba0c96",
   "metadata": {
    "id": "53ba0c96",
    "outputId": "e4aff4ad-2dc1-4936-8bd2-c8ebe7a2dff5"
   },
   "outputs": [],
   "source": [
    "rez = stats.ttest_ind(a=a1, b=a2)\n",
    "print(rez)"
   ]
  },
  {
   "cell_type": "markdown",
   "id": "95948d36",
   "metadata": {
    "id": "95948d36"
   },
   "source": [
    "#### т.к. значение р-теста (0.0009) меньше, чем альфа = 0,05, мы можем отвергнуть нулевую гипотезу"
   ]
  },
  {
   "cell_type": "markdown",
   "id": "ffff7c51",
   "metadata": {
    "id": "ffff7c51"
   },
   "source": [
    "## ANOVA"
   ]
  },
  {
   "cell_type": "code",
   "execution_count": 11,
   "id": "ad6cfe43",
   "metadata": {
    "id": "ad6cfe43",
    "outputId": "d308dbd3-c19b-4f9a-b97c-ce1fa5f95afe"
   },
   "outputs": [
    {
     "data": {
      "text/plain": [
       "Text(0, 0.5, 'артериальное давление')"
      ]
     },
     "execution_count": 11,
     "metadata": {},
     "output_type": "execute_result"
    },
    {
     "data": {
      "image/png": "[encoded data removed]",
      "text/plain": [
       "<Figure size 640x480 with 1 Axes>"
      ]
     },
     "metadata": {},
     "output_type": "display_data"
    }
   ],
   "source": [
    "height = [a2, a1]\n",
    "\n",
    "plt.boxplot(height, labels=[\"до 53\", \"после 53\"])\n",
    "plt.title(\"Блочная диаграмма\", fontsize=15)\n",
    "plt.ylabel(\"артериальное давление\", fontsize=12, color=\"blue\")"
   ]
  },
  {
   "cell_type": "code",
   "execution_count": 10,
   "id": "076cdd30",
   "metadata": {},
   "outputs": [
    {
     "data": {
      "text/plain": [
       "F_onewayResult(statistic=11.236977429000124, pvalue=0.0009042382615676749)"
      ]
     },
     "execution_count": 10,
     "metadata": {},
     "output_type": "execute_result"
    }
   ],
   "source": [
    "from scipy.stats import f_oneway\n",
    "\n",
    "f_oneway(a1, a2)"
   ]
  },
  {
   "cell_type": "markdown",
   "id": "e7e2a1a3",
   "metadata": {
    "id": "e7e2a1a3"
   },
   "source": [
    "#### P < 0.05, поэтому можем отклонить нулевую гипотезу. ( у людей до 53 лет артериальное давление не выше, чем у людей после 53 лет)"
   ]
  },
  {
   "cell_type": "code",
   "execution_count": null,
   "id": "55bb5f9c",
   "metadata": {
    "id": "55bb5f9c"
   },
   "outputs": [],
   "source": []
  }
 ],
 "metadata": {
  "colab": {
   "provenance": []
  },
  "kernelspec": {
   "display_name": "Python 3 (ipykernel)",
   "language": "python",
   "name": "python3"
  },
  "language_info": {
   "codemirror_mode": {
    "name": "ipython",
    "version": 3
   },
   "file_extension": ".py",
   "mimetype": "text/x-python",
   "name": "python",
   "nbconvert_exporter": "python",
   "pygments_lexer": "ipython3",
   "version": "3.11.3"
  }
 },
 "nbformat": 4,
 "nbformat_minor": 5
}
